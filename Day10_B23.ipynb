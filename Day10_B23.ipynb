{
 "cells": [
  {
   "cell_type": "code",
   "execution_count": null,
   "metadata": {},
   "outputs": [],
   "source": [
    "#Intro to while loops\n",
    "It will be validating the condition to implement"
   ]
  },
  {
   "cell_type": "code",
   "execution_count": 4,
   "metadata": {},
   "outputs": [
    {
     "name": "stdout",
     "output_type": "stream",
     "text": [
      "1\n",
      "2\n",
      "3\n",
      "4\n",
      "5\n"
     ]
    }
   ],
   "source": [
    "current_num = 1\n",
    "while current_num <= 5:\n",
    "    print (current_num)\n",
    "    current_num +=1"
   ]
  },
  {
   "cell_type": "code",
   "execution_count": 5,
   "metadata": {},
   "outputs": [
    {
     "name": "stdout",
     "output_type": "stream",
     "text": [
      "1\n",
      "3\n",
      "5\n",
      "7\n",
      "9\n",
      "11\n",
      "13\n",
      "15\n",
      "17\n",
      "19\n"
     ]
    }
   ],
   "source": [
    "current_num = 1\n",
    "while current_num <= 20:\n",
    "    print (current_num)\n",
    "    current_num +=2"
   ]
  },
  {
   "cell_type": "code",
   "execution_count": 6,
   "metadata": {},
   "outputs": [],
   "source": [
    "#Letting the user choose when to quit"
   ]
  },
  {
   "cell_type": "code",
   "execution_count": 8,
   "metadata": {},
   "outputs": [],
   "source": [
    "prompt = \"Tell me something and I will repeat it back to you\"\n",
    "prompt += \"\\nEnter to 'quit'to end the program\""
   ]
  },
  {
   "cell_type": "code",
   "execution_count": 9,
   "metadata": {},
   "outputs": [
    {
     "name": "stdout",
     "output_type": "stream",
     "text": [
      "Tell me something and I will repeat it back to you\n",
      "Enter to 'quit'to end the programwont\n",
      "Tell me something and I will repeat it back to you\n",
      "Enter to 'quit'to end the program\n",
      "Tell me something and I will repeat it back to you\n",
      "Enter to 'quit'to end the programdfsf\n",
      "Tell me something and I will repeat it back to you\n",
      "Enter to 'quit'to end the program\n",
      "Tell me something and I will repeat it back to you\n",
      "Enter to 'quit'to end the programasdfasf\n",
      "Tell me something and I will repeat it back to you\n",
      "Enter to 'quit'to end the program\n",
      "Tell me something and I will repeat it back to you\n",
      "Enter to 'quit'to end the programquit\n",
      "Tell me something and I will repeat it back to you\n",
      "Enter to 'quit'to end the program\n"
     ]
    }
   ],
   "source": [
    "message = \"\"\n",
    "while message != 'quit':\n",
    "    message = input (prompt)\n",
    "    print (prompt)"
   ]
  },
  {
   "cell_type": "code",
   "execution_count": null,
   "metadata": {},
   "outputs": [],
   "source": [
    "# For Loop and While loop\n",
    "For Loop ---- Will be implemented for each and every element in the list\n",
    "While loop ---- if the condition is true"
   ]
  }
 ],
 "metadata": {
  "kernelspec": {
   "display_name": "Python 3",
   "language": "python",
   "name": "python3"
  },
  "language_info": {
   "codemirror_mode": {
    "name": "ipython",
    "version": 3
   },
   "file_extension": ".py",
   "mimetype": "text/x-python",
   "name": "python",
   "nbconvert_exporter": "python",
   "pygments_lexer": "ipython3",
   "version": "3.7.6"
  }
 },
 "nbformat": 4,
 "nbformat_minor": 4
}

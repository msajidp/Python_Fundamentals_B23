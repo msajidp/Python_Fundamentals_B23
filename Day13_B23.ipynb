{
 "cells": [
  {
   "cell_type": "code",
   "execution_count": null,
   "metadata": {},
   "outputs": [],
   "source": [
    "Intro to python classes\n",
    "\n",
    "class: It is a high level blue print of the program composition\n",
    "    \n",
    "Method: A function written inside a class is called as an method\n",
    "\n",
    "Attribute: A variable written inside a class is caleed attribute\n",
    "    \n",
    "Self:  A self is a temporary place holder for an object\n",
    "\n",
    "Object: Object is an entry point to the class method\n",
    "\n"
   ]
  },
  {
   "cell_type": "code",
   "execution_count": 3,
   "metadata": {},
   "outputs": [],
   "source": [
    "class Userclass: # always use title case for class name\n",
    "    \"\"\"Creating a user class for displaying and greeting\"\"\"\n",
    "    def createname (self,name): # method declaration\n",
    "        self.name = name #attribute\n",
    "    def displayname (self): #method\n",
    "        print (self.name)\n",
    "    def greetname(self): #method\n",
    "        print(f\"Hello, {self.name}\")"
   ]
  },
  {
   "cell_type": "code",
   "execution_count": null,
   "metadata": {},
   "outputs": [],
   "source": [
    "#how to assign the object to the class\n"
   ]
  },
  {
   "cell_type": "code",
   "execution_count": 4,
   "metadata": {},
   "outputs": [],
   "source": [
    "xobj = Userclass() #object assignment"
   ]
  },
  {
   "cell_type": "code",
   "execution_count": 5,
   "metadata": {},
   "outputs": [],
   "source": [
    "xobj.createname('nabeel')"
   ]
  },
  {
   "cell_type": "code",
   "execution_count": 6,
   "metadata": {},
   "outputs": [
    {
     "name": "stdout",
     "output_type": "stream",
     "text": [
      "nabeel\n"
     ]
    }
   ],
   "source": [
    "xobj.displayname()"
   ]
  },
  {
   "cell_type": "code",
   "execution_count": 7,
   "metadata": {},
   "outputs": [
    {
     "name": "stdout",
     "output_type": "stream",
     "text": [
      "Hello, nabeel\n"
     ]
    }
   ],
   "source": [
    "xobj.greetname()"
   ]
  },
  {
   "cell_type": "code",
   "execution_count": null,
   "metadata": {},
   "outputs": [],
   "source": []
  }
 ],
 "metadata": {
  "kernelspec": {
   "display_name": "Python 3",
   "language": "python",
   "name": "python3"
  },
  "language_info": {
   "codemirror_mode": {
    "name": "ipython",
    "version": 3
   },
   "file_extension": ".py",
   "mimetype": "text/x-python",
   "name": "python",
   "nbconvert_exporter": "python",
   "pygments_lexer": "ipython3",
   "version": "3.7.6"
  }
 },
 "nbformat": 4,
 "nbformat_minor": 4
}

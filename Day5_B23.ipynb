{
 "cells": [
  {
   "cell_type": "code",
   "execution_count": null,
   "metadata": {},
   "outputs": [],
   "source": [
    "#Intro to looping statement : working with for loop statement"
   ]
  },
  {
   "cell_type": "code",
   "execution_count": 2,
   "metadata": {},
   "outputs": [],
   "source": [
    "bank_customers = ['sajid', 'jihas', 'dileep', 'ranjith', 'altaf']"
   ]
  },
  {
   "cell_type": "code",
   "execution_count": 3,
   "metadata": {},
   "outputs": [
    {
     "name": "stdout",
     "output_type": "stream",
     "text": [
      "['sajid', 'jihas', 'dileep', 'ranjith', 'altaf']\n"
     ]
    }
   ],
   "source": [
    "print (bank_customers)"
   ]
  },
  {
   "cell_type": "code",
   "execution_count": 6,
   "metadata": {},
   "outputs": [
    {
     "name": "stdout",
     "output_type": "stream",
     "text": [
      "Wish You A Very Happy New Year, sajid\n",
      "Wish You A Very Happy New Year, jihas\n",
      "Wish You A Very Happy New Year, dileep\n",
      "Wish You A Very Happy New Year, ranjith\n",
      "Wish You A Very Happy New Year, altaf\n"
     ]
    }
   ],
   "source": [
    "for x in bank_customers:\n",
    "    print(f\"Wish You A Very Happy New Year, {x}\")"
   ]
  },
  {
   "cell_type": "code",
   "execution_count": 7,
   "metadata": {},
   "outputs": [
    {
     "name": "stdout",
     "output_type": "stream",
     "text": [
      "Wish You A Very Happy New Year, Sajid\n",
      "Wish You A Very Happy New Year, Jihas\n",
      "Wish You A Very Happy New Year, Dileep\n",
      "Wish You A Very Happy New Year, Ranjith\n",
      "Wish You A Very Happy New Year, Altaf\n"
     ]
    }
   ],
   "source": [
    "for x in bank_customers:\n",
    "    print(f\"Wish You A Very Happy New Year, {x.title()}\")"
   ]
  },
  {
   "cell_type": "code",
   "execution_count": 8,
   "metadata": {},
   "outputs": [
    {
     "name": "stdout",
     "output_type": "stream",
     "text": [
      "Wish You A Very Happy New Year, Sajid\n",
      "Good banking with you, Sajid\n",
      "Wish You A Very Happy New Year, Jihas\n",
      "Good banking with you, Jihas\n",
      "Wish You A Very Happy New Year, Dileep\n",
      "Good banking with you, Dileep\n",
      "Wish You A Very Happy New Year, Ranjith\n",
      "Good banking with you, Ranjith\n",
      "Wish You A Very Happy New Year, Altaf\n",
      "Good banking with you, Altaf\n"
     ]
    }
   ],
   "source": [
    "for x in bank_customers:\n",
    "    print(f\"Wish You A Very Happy New Year, {x.title()}\")\n",
    "    print(f\"Good banking with you, {x.title()}\")"
   ]
  },
  {
   "cell_type": "code",
   "execution_count": 11,
   "metadata": {},
   "outputs": [
    {
     "name": "stdout",
     "output_type": "stream",
     "text": [
      "Wish You A Very Happy New Year, Sajid\n",
      "Good banking with you, Sajid,\n",
      "\n",
      "Wish You A Very Happy New Year, Jihas\n",
      "Good banking with you, Jihas,\n",
      "\n",
      "Wish You A Very Happy New Year, Dileep\n",
      "Good banking with you, Dileep,\n",
      "\n",
      "Wish You A Very Happy New Year, Ranjith\n",
      "Good banking with you, Ranjith,\n",
      "\n",
      "Wish You A Very Happy New Year, Altaf\n",
      "Good banking with you, Altaf,\n",
      "\n"
     ]
    }
   ],
   "source": [
    "for x in bank_customers:\n",
    "    print(f\"Wish You A Very Happy New Year, {x.title()}\")\n",
    "    print(f\"Good banking with you, {x.title()},\\n\")"
   ]
  },
  {
   "cell_type": "code",
   "execution_count": 12,
   "metadata": {},
   "outputs": [
    {
     "name": "stdout",
     "output_type": "stream",
     "text": [
      "Wish You A Very Happy New Year, Sajid\n",
      "Good banking with you, Sajid,\n",
      "\n",
      "Wish You A Very Happy New Year, Jihas\n",
      "Good banking with you, Jihas,\n",
      "\n",
      "Wish You A Very Happy New Year, Dileep\n",
      "Good banking with you, Dileep,\n",
      "\n",
      "Wish You A Very Happy New Year, Ranjith\n",
      "Good banking with you, Ranjith,\n",
      "\n",
      "Wish You A Very Happy New Year, Altaf\n",
      "Good banking with you, Altaf,\n",
      "\n",
      "Thank you all\n"
     ]
    }
   ],
   "source": [
    "for x in bank_customers:\n",
    "    print(f\"Wish You A Very Happy New Year, {x.title()}\")\n",
    "    print(f\"Good banking with you, {x.title()},\\n\")\n",
    "    \n",
    "print ('Thank you all')"
   ]
  },
  {
   "cell_type": "code",
   "execution_count": null,
   "metadata": {},
   "outputs": [],
   "source": [
    "#Intro to orgnaizing list using sort \n",
    "#temporary and permanent method"
   ]
  },
  {
   "cell_type": "code",
   "execution_count": 13,
   "metadata": {},
   "outputs": [
    {
     "name": "stdout",
     "output_type": "stream",
     "text": [
      "['sajid', 'jihas', 'dileep', 'ranjith', 'altaf']\n"
     ]
    }
   ],
   "source": [
    "print(bank_customers)"
   ]
  },
  {
   "cell_type": "code",
   "execution_count": 15,
   "metadata": {},
   "outputs": [
    {
     "name": "stdout",
     "output_type": "stream",
     "text": [
      "['altaf', 'dileep', 'jihas', 'ranjith', 'sajid']\n"
     ]
    }
   ],
   "source": [
    "print(sorted (bank_customers)) # temp method"
   ]
  },
  {
   "cell_type": "code",
   "execution_count": 18,
   "metadata": {},
   "outputs": [
    {
     "name": "stdout",
     "output_type": "stream",
     "text": [
      "['sajid', 'jihas', 'dileep', 'ranjith', 'altaf']\n"
     ]
    }
   ],
   "source": [
    "print (bank_customers)"
   ]
  },
  {
   "cell_type": "code",
   "execution_count": 19,
   "metadata": {},
   "outputs": [
    {
     "name": "stdout",
     "output_type": "stream",
     "text": [
      "['altaf', 'dileep', 'jihas', 'ranjith', 'sajid']\n"
     ]
    }
   ],
   "source": [
    "bank_customers.sort()\n",
    "print ( bank_customers)"
   ]
  },
  {
   "cell_type": "code",
   "execution_count": 20,
   "metadata": {},
   "outputs": [
    {
     "name": "stdout",
     "output_type": "stream",
     "text": [
      "['altaf', 'dileep', 'jihas', 'ranjith', 'sajid']\n"
     ]
    }
   ],
   "source": [
    "print (bank_customers)"
   ]
  },
  {
   "cell_type": "code",
   "execution_count": null,
   "metadata": {},
   "outputs": [],
   "source": []
  }
 ],
 "metadata": {
  "kernelspec": {
   "display_name": "Python 3",
   "language": "python",
   "name": "python3"
  },
  "language_info": {
   "codemirror_mode": {
    "name": "ipython",
    "version": 3
   },
   "file_extension": ".py",
   "mimetype": "text/x-python",
   "name": "python",
   "nbconvert_exporter": "python",
   "pygments_lexer": "ipython3",
   "version": "3.7.6"
  }
 },
 "nbformat": 4,
 "nbformat_minor": 4
}
